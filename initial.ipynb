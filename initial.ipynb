{
 "cells": [
  {
   "cell_type": "code",
   "execution_count": 8,
   "metadata": {
    "collapsed": false
   },
   "outputs": [
    {
     "name": "stdout",
     "output_type": "stream",
     "text": [
      "[  28.7s] creating transformation FP - 5000\n",
      "[  57.4s] creating transformation FP - 10000\n",
      "[  85.6s] creating transformation FP - 15000\n",
      "[ 114.0s] creating transformation FP - 20000\n",
      "[ 143.1s] creating transformation FP - 25000\n",
      "[ 174.5s] creating transformation FP - 30000\n",
      "[ 204.5s] creating transformation FP - 35000\n",
      "[ 232.6s] creating transformation FP - 40000\n",
      "[ 260.7s] creating transformation FP - 45000\n",
      "[ 291.2s] creating transformation FP - 50000\n"
     ]
    }
   ],
   "source": [
    "from rdkit import Chem\n",
    "from rdkit.Chem import AllChem\n",
    "from rdkit import DataStructs\n",
    "import cPickle,gzip\n",
    "from collections import defaultdict\n",
    "import createFingerprintsReaction\n",
    "import random\n",
    "import time\n",
    "\n",
    "starttime = time.time() # start time\n",
    "\n",
    "\n",
    "###########################################################\n",
    "# Combine AP3 fingerprint with agent feature and Morgan2 FPs\n",
    "###########################################################\n",
    "\n",
    "infile = gzip.open('training_test_set_patent_data.pkl.gz', 'rb')\n",
    "pklfile = gzip.open('transformationFPs_MG2_agentFPs_test_set_patent_data_2.pkl.gz','wb+')\n",
    "\n",
    "lineNo=0\n",
    "while 1:\n",
    "    lineNo+=1\n",
    "    try:\n",
    "        smi,lbl,klass = cPickle.load(infile) \n",
    "    except EOFError:\n",
    "        break\n",
    "    try:\n",
    "        rxn = AllChem.ReactionFromSmarts(smi,useSmiles=True)\n",
    "        fp_AP3 = createFingerprintsReaction.create_transformation_FP(rxn,AllChem.FingerprintType.AtomPairFP)\n",
    "        fp_MG2_agents = createFingerprintsReaction.create_agent_morgan2_FP(rxn)\n",
    "        if fp_MG2_agents is None:\n",
    "            fp_MG2_agents = DataStructs.UIntSparseIntVect(4096)\n",
    "        fp_featureAgent = createFingerprintsReaction.create_agent_feature_FP(rxn)\n",
    "    except:\n",
    "        print \"Cannot build fingerprint/reaction of: %s\\n\"%smi\n",
    "        continue;\n",
    "    cPickle.dump((lbl,klass,fp_AP3,fp_featureAgent,fp_MG2_agents),pklfile,2)\n",
    "    if not lineNo%5000:\n",
    "        print \"[%6.1fs] creating transformation FP - %d\"%(time.time()-starttime, lineNo)"
   ]
  },
  {
   "cell_type": "code",
   "execution_count": 9,
   "metadata": {
    "collapsed": false
   },
   "outputs": [
    {
     "name": "stdout",
     "output_type": "stream",
     "text": [
      "[ 316.9s] loading pickle file - 10000\n",
      "[ 319.2s] loading pickle file - 20000\n",
      "[ 321.4s] loading pickle file - 30000\n",
      "[ 323.6s] loading pickle file - 40000\n",
      "[ 325.8s] loading pickle file - 50000\n"
     ]
    }
   ],
   "source": [
    "###########################################################\n",
    "# Load the AP3 fingerprint, agent feature and MG2 fingerprints\n",
    "###########################################################\n",
    "\n",
    "from sklearn.linear_model import LogisticRegression\n",
    "import utilsFunctions\n",
    "\n",
    "infile = gzip.open(\"transformationFPs_MG2_agentFPs_test_set_patent_data_2.pkl.gz\", 'rb')\n",
    "\n",
    "lineNo=0\n",
    "fps=[]\n",
    "idx=0\n",
    "while 1:\n",
    "    lineNo+=1\n",
    "    try:\n",
    "        lbl,cls,fp_AP3,fp_agentFeature,fp_agentMG2 = cPickle.load(infile)        \n",
    "    except EOFError:\n",
    "        break\n",
    "    fps.append([idx,lbl,cls,fp_AP3,fp_agentFeature,fp_agentMG2])\n",
    "    idx+=1\n",
    "    if not lineNo%10000:\n",
    "        print \"[%6.1fs] loading pickle file - %d\"%(time.time()-starttime, lineNo)"
   ]
  },
  {
   "cell_type": "code",
   "execution_count": 10,
   "metadata": {
    "collapsed": false
   },
   "outputs": [
    {
     "name": "stdout",
     "output_type": "stream",
     "text": [
      "[ 338.2s] splited FP collection to training and test set\n"
     ]
    }
   ],
   "source": [
    "###########################################################\n",
    "# Split the FPs in training (20 %) and test data (80 %)\n",
    "###########################################################\n",
    "\n",
    "import numpy as np\n",
    "\n",
    "random.seed(0xd00f)\n",
    "indices=range(len(fps))\n",
    "random.shuffle(indices)\n",
    "\n",
    "nActive=200\n",
    "fpsz=256\n",
    "trainFps_AP3_agentMG2=[]\n",
    "testFps_AP3_agentMG2=[]\n",
    "trainActs=[]\n",
    "testActs=[]\n",
    "\n",
    "reaction_types = cPickle.load(file(\"reactionTypes_training_test_set_patent_data.pkl\"))\n",
    "names_rTypes = cPickle.load(file(\"names_rTypes_classes_superclasses_training_test_set_patent_data.pkl\"))\n",
    "\n",
    "rtypes=sorted(list(reaction_types))\n",
    "for i,klass in enumerate(rtypes):\n",
    "    actIds = [x for x in indices if fps[x][2]==klass]\n",
    "    for x in actIds[:nActive]:\n",
    "        # np1_feature = utilsFunctions.fpToNPfloat(fps[x][3],fpsz)\n",
    "        # np2_feature = np.asarray(fps[x][4], dtype=float)\n",
    "        # trainFps_AP3_agentFeature += [np.concatenate([np1_feature, np2_feature])]\n",
    "        np1_morgan = utilsFunctions.fpToNP(fps[x][3],fpsz)\n",
    "        # trainFps_AP3 += [np1_morgan]\n",
    "        np2_morgan = utilsFunctions.fpToNP(fps[x][5],fpsz)\n",
    "        trainFps_AP3_agentMG2 += [np.concatenate([np1_morgan, np2_morgan])]\n",
    "    trainActs += [i]*nActive\n",
    "    nTest=len(actIds)-nActive\n",
    "    for x in actIds[nActive:]:\n",
    "        # np1_feature = utilsFunctions.fpToNPfloat(fps[x][3],fpsz)\n",
    "        # np2_feature = np.asarray(fps[x][4], dtype=float)\n",
    "        # testFps_AP3_agentFeature += [np.concatenate([np1_feature, np2_feature])]\n",
    "        np1_morgan = utilsFunctions.fpToNP(fps[x][3],fpsz)\n",
    "        # testFps_AP3 += [np1_morgan]\n",
    "        np2_morgan = utilsFunctions.fpToNP(fps[x][5],fpsz)\n",
    "        testFps_AP3_agentMG2 += [np.concatenate([np1_morgan, np2_morgan])]\n",
    "    testActs += [i]*nTest\n",
    "    \n",
    "print \"[%6.1fs] splited FP collection to training and test set\"%(time.time()-starttime)"
   ]
  },
  {
   "cell_type": "code",
   "execution_count": 11,
   "metadata": {
    "collapsed": false
   },
   "outputs": [
    {
     "name": "stdout",
     "output_type": "stream",
     "text": [
      "[ 359.0s] LR model training finished\n"
     ]
    }
   ],
   "source": [
    "###########################################################\n",
    "# Train LR Model\n",
    "###########################################################\n",
    "\n",
    "lr_cls_AP3_MG2 = LogisticRegression()\n",
    "result_lr_fp_AP3_MG2 = lr_cls_AP3_MG2.fit(trainFps_AP3_agentMG2,trainActs)\n",
    "print \"[%6.1fs] LR model training finished\"%(time.time()-starttime)"
   ]
  },
  {
   "cell_type": "code",
   "execution_count": 13,
   "metadata": {
    "collapsed": false
   },
   "outputs": [
    {
     "name": "stdout",
     "output_type": "stream",
     "text": [
      "ID  recall    prec F-score      reaction class\n",
      " 0  0.9825  0.9692  0.9758     1.2.1 Aldehyde reductive amination\n",
      " 1  0.9750  0.9559  0.9653     1.2.4 Eschweiler-Clarke methylation\n",
      " 2  0.9800  0.9739  0.9769     1.2.5 Ketone reductive amination\n",
      " 3  0.9700  0.9688  0.9694     1.3.6 Bromo N-arylation\n",
      " 4  0.9788  0.9584  0.9685     1.3.7 Chloro N-arylation\n",
      " 5  0.9900  0.9730  0.9814     1.3.8 Fluoro N-arylation\n",
      " 6  0.9450  0.9618  0.9533     1.6.2 Bromo N-alkylation\n",
      " 7  0.9137  0.9469  0.9300     1.6.4 Chloro N-alkylation\n",
      " 8  0.9187  0.9199  0.9193     1.6.8 Iodo N-alkylation\n",
      " 9  0.9663  0.8968  0.9302     1.7.4 Hydroxy to methoxy\n",
      "10  0.9900  0.9647  0.9772     1.7.6 Methyl esterification\n",
      "11  0.9413  0.9484  0.9448     1.7.7 Mitsunobu aryl ether synthesis\n",
      "12  0.9413  0.9448  0.9430     1.7.9 Williamson ether synthesis\n",
      "13  0.9700  0.9936  0.9817     1.8.5 Thioether synthesis\n",
      "14  0.9425  0.9654  0.9538    10.1.1 Bromination\n",
      "15  0.9337  0.9676  0.9504    10.1.2 Chlorination\n",
      "16  0.9925  0.9742  0.9833    10.1.5 Wohl-Ziegler bromination\n",
      "17  0.9750  0.9987  0.9867    10.2.1 Nitration\n",
      "18  0.7175  0.8085  0.7603    10.4.2 Methylation\n",
      "19  0.9825  0.9236  0.9522     2.1.1 Amide Schotten-Baumann\n",
      "20  0.9725  0.9317  0.9517     2.1.2 Carboxylic acid + amine reaction\n",
      "21  0.9463  0.9768  0.9613     2.1.7 N-acetylation\n",
      "22  0.9950  0.9987  0.9969     2.2.3 Sulfonamide Schotten-Baumann\n",
      "23  0.9925  0.9987  0.9956     2.3.1 Isocyanate + amine reaction\n",
      "24  0.9762  0.9714  0.9738     2.6.1 Ester Schotten-Baumann\n",
      "25  0.9925  0.9648  0.9784     2.6.3 Fischer-Speier esterification\n",
      "26  0.9950  1.0000  0.9975     2.7.2 Sulfonic ester Schotten-Baumann\n",
      "27  0.9563  0.9783  0.9671     3.1.1 Bromo Suzuki coupling\n",
      "28  0.9788  0.9643  0.9715     3.1.5 Bromo Suzuki-type coupling\n",
      "29  0.9862  0.9962  0.9912     3.1.6 Chloro Suzuki-type coupling\n",
      "30  0.9950  0.9975  0.9962     3.3.1 Sonogashira coupling\n",
      "31  0.9962  0.9975  0.9969     3.4.1 Stille reaction\n",
      "32  0.9525  0.9961  0.9738     5.1.1 N-Boc protection\n",
      "33  0.9962  0.9925  0.9944     6.1.1 N-Boc deprotection\n",
      "34  0.9975  0.9925  0.9950     6.1.3 N-Cbz deprotection\n",
      "35  0.9925  0.9987  0.9956     6.1.5 N-Bn deprotection\n",
      "36  0.9888  0.9670  0.9778     6.2.1 CO2H-Et deprotection\n",
      "37  0.9850  0.9740  0.9795     6.2.2 CO2H-Me deprotection\n",
      "38  0.9988  0.9889  0.9938     6.2.3 CO2H-tBu deprotection\n",
      "39  0.9988  0.9975  0.9981     6.3.1 O-Bn deprotection\n",
      "40  0.9912  0.9912  0.9912     6.3.7 Methoxy to hydroxy\n",
      "41  0.9850  0.9937  0.9893     7.1.1 Nitro to amino\n",
      "42  0.9900  0.9863  0.9881     7.2.1 Amide to amine reduction\n",
      "43  0.9975  0.9950  0.9963     7.3.1 Nitrile reduction\n",
      "44  0.9950  0.9888  0.9919     7.9.2 Carboxylic acid to alcohol reduction\n",
      "45  0.9950  0.9913  0.9931     8.1.4 Alcohol to aldehyde oxidation\n",
      "46  0.9888  0.9888  0.9888     8.1.5 Alcohol to ketone oxidation\n",
      "47  0.9912  0.9987  0.9950     8.2.1 Sulfanyl to sulfinyl\n",
      "48  0.9575  0.9599  0.9587     9.1.6 Hydroxy to chloro\n",
      "49  0.9700  0.9640  0.9670     9.3.1 Carboxylic acid to acid chloride\n",
      "Mean: 0.97    0.97    0.97\n",
      "[ 377.7s] evaluation finished!\n"
     ]
    }
   ],
   "source": [
    "###########################################################\n",
    "# Evaluate Model\n",
    "###########################################################\n",
    "\n",
    "cmat_fp_AP3_MG2 = utilsFunctions.evaluateModel(result_lr_fp_AP3_MG2, testFps_AP3_agentMG2, testActs, rtypes, names_rTypes)\n",
    "print \"[%6.1fs] evaluation finished!\"%(time.time()-starttime)"
   ]
  },
  {
   "cell_type": "code",
   "execution_count": null,
   "metadata": {
    "collapsed": true
   },
   "outputs": [],
   "source": []
  }
 ],
 "metadata": {
  "kernelspec": {
   "display_name": "Python 2",
   "language": "python",
   "name": "python2"
  },
  "language_info": {
   "codemirror_mode": {
    "name": "ipython",
    "version": 2
   },
   "file_extension": ".py",
   "mimetype": "text/x-python",
   "name": "python",
   "nbconvert_exporter": "python",
   "pygments_lexer": "ipython2",
   "version": "2.7.11"
  }
 },
 "nbformat": 4,
 "nbformat_minor": 0
}
