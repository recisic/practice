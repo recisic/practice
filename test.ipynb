{
 "cells": [
  {
   "cell_type": "code",
   "execution_count": 1,
   "metadata": {
    "collapsed": false,
    "scrolled": false
   },
   "outputs": [],
   "source": [
    "from rdkit import Chem\n",
    "from rdkit.Chem import AllChem\n",
    "from rdkit import DataStructs\n",
    "import pickle,gzip\n",
    "from collections import defaultdict\n",
    "import createFingerprintsReaction\n",
    "import random\n",
    "import time\n",
    "\n",
    "starttime = time.time() # start time"
   ]
  },
  {
   "cell_type": "markdown",
   "metadata": {},
   "source": [
    "Combine AP3 fingerprint with agent feature and Morgan2 FPs"
   ]
  },
  {
   "cell_type": "code",
   "execution_count": 2,
   "metadata": {
    "collapsed": false
   },
   "outputs": [
    {
     "name": "stdout",
     "output_type": "stream",
     "text": [
      "[  18.8s] creating transformation FP - 5000\n",
      "[  35.5s] creating transformation FP - 10000\n",
      "[  51.4s] creating transformation FP - 15000\n",
      "[  67.7s] creating transformation FP - 20000\n",
      "[  84.3s] creating transformation FP - 25000\n",
      "[ 101.3s] creating transformation FP - 30000\n",
      "[ 118.4s] creating transformation FP - 35000\n",
      "[ 134.0s] creating transformation FP - 40000\n",
      "[ 149.4s] creating transformation FP - 45000\n",
      "[ 166.1s] creating transformation FP - 50000\n"
     ]
    }
   ],
   "source": [
    "infile = gzip.open('training_test_set_patent_data.pkl.gz', 'rb')\n",
    "pklfile = gzip.open('transformationFPs_MG2_agentFPs_test_set_patent_data.pkl.gz','wb+')\n",
    "\n",
    "lineNo=0\n",
    "while 1:\n",
    "    lineNo+=1\n",
    "    try:\n",
    "        smi,lbl,klass = pickle.load(infile, encoding='latin1') # input file pickled in python 2\n",
    "    except EOFError:\n",
    "        break\n",
    "    try:\n",
    "        rxn = AllChem.ReactionFromSmarts(smi,useSmiles=True)\n",
    "        fp_AP3 = createFingerprintsReaction.create_transformation_FP(rxn,AllChem.FingerprintType.AtomPairFP)\n",
    "        fp_MG2_agents = createFingerprintsReaction.create_agent_morgan2_FP(rxn)\n",
    "        if fp_MG2_agents is None:\n",
    "            fp_MG2_agents = DataStructs.UIntSparseIntVect(4096)\n",
    "        fp_featureAgent = createFingerprintsReaction.create_agent_feature_FP(rxn)\n",
    "    except:\n",
    "        print (\"Cannot build fingerprint/reaction of: %s\\n\"%smi)\n",
    "        continue;\n",
    "    pickle.dump((lbl,klass,fp_AP3,fp_featureAgent,fp_MG2_agents),pklfile,2)\n",
    "    if not lineNo%5000:\n",
    "        print (\"[%6.1fs] creating transformation FP - %d\"%(time.time()-starttime, lineNo))"
   ]
  },
  {
   "cell_type": "markdown",
   "metadata": {},
   "source": [
    "Load the AP3 fingerprint, agent feature and MG2 fingerprints"
   ]
  },
  {
   "cell_type": "code",
   "execution_count": 3,
   "metadata": {
    "collapsed": false,
    "scrolled": true
   },
   "outputs": [
    {
     "name": "stdout",
     "output_type": "stream",
     "text": [
      "[ 169.2s] loading pickle file - 10000\n",
      "[ 170.9s] loading pickle file - 20000\n",
      "[ 172.2s] loading pickle file - 30000\n",
      "[ 173.2s] loading pickle file - 40000\n"
     ]
    }
   ],
   "source": [
    "infile = gzip.open('transformationFPs_MG2_agentFPs_test_set_patent_data.pkl.gz', 'rb')\n",
    "\n",
    "lineNo=0\n",
    "fps=[]\n",
    "idx=0\n",
    "while 1:\n",
    "    lineNo+=1\n",
    "    try:\n",
    "        lbl,cls,fp_AP3,fp_agentFeature,fp_agentMG2 = pickle.load(infile)        \n",
    "    except EOFError:\n",
    "        break\n",
    "    fps.append([idx,lbl,cls,fp_AP3,fp_agentFeature,fp_agentMG2])\n",
    "    idx+=1\n",
    "    if not lineNo%10000:\n",
    "        print (\"[%6.1fs] loading pickle file - %d\"%(time.time()-starttime, lineNo))"
   ]
  },
  {
   "cell_type": "markdown",
   "metadata": {},
   "source": [
    "Split the FPs in training (70 %) and test data (30 %)"
   ]
  },
  {
   "cell_type": "code",
   "execution_count": 4,
   "metadata": {
    "collapsed": false
   },
   "outputs": [
    {
     "name": "stdout",
     "output_type": "stream",
     "text": [
      "[ 208.2s] split FP collection to training and test set\n"
     ]
    }
   ],
   "source": [
    "import numpy as np\n",
    "import utilsFunctions\n",
    "\n",
    "random.seed(0xd00f)\n",
    "indices=list(range(len(fps))) # python3 range = python2 xrange\n",
    "random.shuffle(indices)\n",
    "\n",
    "nActive=700\n",
    "fpsz=512\n",
    "trainFps_AP3_agentMG2=[]\n",
    "testFps_AP3_agentMG2=[]\n",
    "trainActs=[]\n",
    "testActs=[]\n",
    "\n",
    "# input file pickled in python 2\n",
    "reaction_types = pickle.load(open('reactionTypes_training_test_set_patent_data.pkl','rb'), encoding='latin1')\n",
    "names_rTypes = pickle.load(open('names_rTypes_classes_superclasses_training_test_set_patent_data.pkl','rb'), encoding='latin1')\n",
    "rtypes=sorted(list(reaction_types))\n",
    "for i,klass in enumerate(rtypes):\n",
    "    actIds = [x for x in indices if fps[x][2]==klass]\n",
    "    for x in actIds[:nActive]:\n",
    "        np1_morgan = utilsFunctions.fpToNP(fps[x][3],fpsz)\n",
    "        np2_morgan = utilsFunctions.fpToNP(fps[x][5],fpsz)\n",
    "        trainFps_AP3_agentMG2 += [np.concatenate([np1_morgan, np2_morgan])]\n",
    "    trainActs += [i]*nActive\n",
    "    nTest=len(actIds)-nActive\n",
    "    for x in actIds[nActive:]:\n",
    "        np1_morgan = utilsFunctions.fpToNP(fps[x][3],fpsz)\n",
    "        np2_morgan = utilsFunctions.fpToNP(fps[x][5],fpsz)\n",
    "        testFps_AP3_agentMG2 += [np.concatenate([np1_morgan, np2_morgan])]\n",
    "    testActs += [i]*nTest\n",
    "    \n",
    "print (\"[%6.1fs] split FP collection to training and test set\"%(time.time()-starttime))"
   ]
  },
  {
   "cell_type": "markdown",
   "metadata": {},
   "source": [
    "Train LR Model"
   ]
  },
  {
   "cell_type": "code",
   "execution_count": 5,
   "metadata": {
    "collapsed": false
   },
   "outputs": [
    {
     "name": "stdout",
     "output_type": "stream",
     "text": [
      "[ 340.3s] LR model training finished\n"
     ]
    }
   ],
   "source": [
    "from sklearn.linear_model import LogisticRegression\n",
    "\n",
    "lr_cls_AP3_MG2 = LogisticRegression()\n",
    "result_lr_fp_AP3_MG2 = lr_cls_AP3_MG2.fit(trainFps_AP3_agentMG2,trainActs)\n",
    "print (\"[%6.1fs] LR model training finished\"%(time.time()-starttime))"
   ]
  },
  {
   "cell_type": "markdown",
   "metadata": {},
   "source": [
    "Evaluate Model"
   ]
  },
  {
   "cell_type": "code",
   "execution_count": 6,
   "metadata": {
    "collapsed": false
   },
   "outputs": [
    {
     "name": "stdout",
     "output_type": "stream",
     "text": [
      "ID  recall    prec F-score      reaction class\n",
      " 0  0.9100  0.9161  0.9130     1.2.1 Aldehyde reductive amination\n",
      " 1  0.7900  0.8943  0.8389     1.2.4 Eschweiler-Clarke methylation\n",
      " 2  0.9033  0.9443  0.9233     1.2.5 Ketone reductive amination\n",
      " 3  0.9233  0.9295  0.9264     1.3.6 Bromo N-arylation\n",
      " 4  0.8867  0.8444  0.8650     1.3.7 Chloro N-arylation\n",
      " 5  0.9067  0.8947  0.9007     1.3.8 Fluoro N-arylation\n",
      " 6  0.8800  0.8889  0.8844     1.6.2 Bromo N-alkylation\n",
      " 7  0.8167  0.8140  0.8153     1.6.4 Chloro N-alkylation\n",
      " 8  0.8533  0.8339  0.8435     1.6.8 Iodo N-alkylation\n",
      " 9  0.8667  0.8497  0.8581     1.7.4 Hydroxy to methoxy\n",
      "10  0.8800  0.8381  0.8585     1.7.6 Methyl esterification\n",
      "11  0.8700  0.9094  0.8893     1.7.7 Mitsunobu aryl ether synthesis\n",
      "12  0.7433  0.8139  0.7770     1.7.9 Williamson ether synthesis\n",
      "13  0.9600  0.9351  0.9474     1.8.5 Thioether synthesis\n",
      "14  0.8733  0.8942  0.8836    10.1.1 Bromination\n",
      "15  0.8767  0.9038  0.8900    10.1.2 Chlorination\n",
      "16  0.9538  0.9725  0.9631    10.1.5 Wohl-Ziegler bromination\n",
      "17  0.9967  0.9771  0.9868    10.2.1 Nitration\n",
      "18  0.5767  0.6758  0.6223    10.4.2 Methylation\n",
      "19  0.8300  0.8557  0.8426     2.1.1 Amide Schotten-Baumann\n",
      "20  0.9067  0.8690  0.8874     2.1.2 Carboxylic acid + amine reaction\n",
      "21  0.9367  0.9213  0.9289     2.1.7 N-acetylation\n",
      "22  0.9600  0.9664  0.9632     2.2.3 Sulfonamide Schotten-Baumann\n",
      "23  0.9933  0.9900  0.9917     2.3.1 Isocyanate + amine reaction\n",
      "24  0.9067  0.8690  0.8874     2.6.1 Ester Schotten-Baumann\n",
      "25  0.9867  0.9642  0.9753     2.6.3 Fischer-Speier esterification\n",
      "26  0.9700  0.9151  0.9417     2.7.2 Sulfonic ester Schotten-Baumann\n",
      "27  0.9900  0.9867  0.9884     3.1.1 Bromo Suzuki coupling\n",
      "28  0.9933  0.9770  0.9851     3.1.5 Bromo Suzuki-type coupling\n",
      "29  0.9852  0.9888  0.9870     3.1.6 Chloro Suzuki-type coupling\n",
      "30  0.9867  0.9769  0.9818     3.3.1 Sonogashira coupling\n",
      "31  0.9933  0.9967  0.9950     3.4.1 Stille reaction\n",
      "32  0.9500  0.9596  0.9548     5.1.1 N-Boc protection\n",
      "33  0.9067  0.8889  0.8977     6.1.1 N-Boc deprotection\n",
      "34  0.9500  0.9019  0.9253     6.1.3 N-Cbz deprotection\n",
      "35  0.9133  0.9073  0.9103     6.1.5 N-Bn deprotection\n",
      "36  0.8800  0.8889  0.8844     6.2.1 CO2H-Et deprotection\n",
      "37  0.8900  0.8613  0.8754     6.2.2 CO2H-Me deprotection\n",
      "38  0.9433  0.9340  0.9386     6.2.3 CO2H-tBu deprotection\n",
      "39  0.8633  0.9024  0.8825     6.3.1 O-Bn deprotection\n",
      "40  0.8833  0.8863  0.8848     6.3.7 Methoxy to hydroxy\n",
      "41  0.9200  0.8932  0.9064     7.1.1 Nitro to amino\n",
      "42  0.9100  0.9161  0.9130     7.2.1 Amide to amine reduction\n",
      "43  0.9500  0.8970  0.9227     7.3.1 Nitrile reduction\n",
      "44  0.9433  0.9465  0.9449     7.9.2 Carboxylic acid to alcohol reduction\n",
      "45  0.8933  0.8874  0.8904     8.1.4 Alcohol to aldehyde oxidation\n",
      "46  0.8900  0.8641  0.8768     8.1.5 Alcohol to ketone oxidation\n",
      "47  0.9502  0.8841  0.9160     8.2.1 Sulfanyl to sulfinyl\n",
      "48  0.8733  0.9704  0.9193     9.1.6 Hydroxy to chloro\n",
      "49  0.9400  0.9216  0.9307     9.3.1 Carboxylic acid to acid chloride\n",
      "Mean: 0.91    0.91    0.91\n",
      "[ 345.0s] evaluation finished!\n"
     ]
    }
   ],
   "source": [
    "cmat_fp_AP3_MG2 = utilsFunctions.evaluateModel(result_lr_fp_AP3_MG2, testFps_AP3_agentMG2, testActs, rtypes, names_rTypes)\n",
    "print (\"[%6.1fs] evaluation finished!\"%(time.time()-starttime))"
   ]
  },
  {
   "cell_type": "code",
   "execution_count": 7,
   "metadata": {
    "collapsed": false
   },
   "outputs": [
    {
     "name": "stdout",
     "output_type": "stream",
     "text": [
      "1.2.5 Ketone reductive amination\n"
     ]
    }
   ],
   "source": [
    "smi = '[H]C(=O)C1=CC=CC=C1.NC1=CC=CC=C1>[Na+].CCO.[BH4-]>'\n",
    "rxn = AllChem.ReactionFromSmarts(smi,useSmiles=True)\n",
    "fp_AP3 = createFingerprintsReaction.create_transformation_FP(rxn,AllChem.FingerprintType.AtomPairFP)\n",
    "fp_MG2_agents = createFingerprintsReaction.create_agent_morgan2_FP(rxn)\n",
    "if fp_MG2_agents is None:\n",
    "    fp_MG2_agents = DataStructs.UIntSparseIntVect(4096)\n",
    "np1_morgan = utilsFunctions.fpToNP(fp_AP3,fpsz)\n",
    "np2_morgan = utilsFunctions.fpToNP(fp_MG2_agents,fpsz)\n",
    "testFps_AP3_agentMG2 = [np.concatenate([np1_morgan, np2_morgan])]\n",
    "predict = result_lr_fp_AP3_MG2.predict(testFps_AP3_agentMG2)\n",
    "print (\"%s %s\"%(rtypes[predict[0]], names_rTypes[rtypes[predict[0]]]))"
   ]
  },
  {
   "cell_type": "markdown",
   "metadata": {},
   "source": [
    "Save predictor to pickle file (for later use)"
   ]
  },
  {
   "cell_type": "code",
   "execution_count": 8,
   "metadata": {
    "collapsed": false
   },
   "outputs": [],
   "source": [
    "with gzip.open('result_lr_fp_AP3_MG2.pkl.gz','wb+') as pklfile:\n",
    "    pickle.dump((result_lr_fp_AP3_MG2,rtypes,names_rTypes),pklfile,2)"
   ]
  },
  {
   "cell_type": "code",
   "execution_count": null,
   "metadata": {
    "collapsed": true
   },
   "outputs": [],
   "source": []
  }
 ],
 "metadata": {
  "kernelspec": {
   "display_name": "Python 3",
   "language": "python",
   "name": "python3"
  },
  "language_info": {
   "codemirror_mode": {
    "name": "ipython",
    "version": 3
   },
   "file_extension": ".py",
   "mimetype": "text/x-python",
   "name": "python",
   "nbconvert_exporter": "python",
   "pygments_lexer": "ipython3",
   "version": "3.5.1"
  }
 },
 "nbformat": 4,
 "nbformat_minor": 0
}
