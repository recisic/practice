{
 "cells": [
  {
   "cell_type": "code",
   "execution_count": null,
   "metadata": {
    "collapsed": false,
    "scrolled": false
   },
   "outputs": [],
   "source": [
    "from rdkit import Chem\n",
    "from rdkit.Chem import AllChem\n",
    "from rdkit import DataStructs\n",
    "import cPickle,gzip\n",
    "from collections import defaultdict\n",
    "import createFingerprintsReaction\n",
    "import random\n",
    "import time\n",
    "\n",
    "starttime = time.time() # start time"
   ]
  },
  {
   "cell_type": "markdown",
   "metadata": {},
   "source": [
    "Combine AP3 fingerprint with agent feature and Morgan2 FPs"
   ]
  },
  {
   "cell_type": "code",
   "execution_count": null,
   "metadata": {
    "collapsed": true
   },
   "outputs": [],
   "source": [
    "infile = gzip.open('training_test_set_patent_data.pkl.gz', 'rb')\n",
    "pklfile = gzip.open('transformationFPs_MG2_agentFPs_test_set_patent_data_2.pkl.gz','wb+')\n",
    "\n",
    "lineNo=0\n",
    "while 1:\n",
    "    lineNo+=1\n",
    "    try:\n",
    "        smi,lbl,klass = cPickle.load(infile) \n",
    "    except EOFError:\n",
    "        break\n",
    "    try:\n",
    "        rxn = AllChem.ReactionFromSmarts(smi,useSmiles=True)\n",
    "        fp_AP3 = createFingerprintsReaction.create_transformation_FP(rxn,AllChem.FingerprintType.AtomPairFP)\n",
    "        fp_MG2_agents = createFingerprintsReaction.create_agent_morgan2_FP(rxn)\n",
    "        if fp_MG2_agents is None:\n",
    "            fp_MG2_agents = DataStructs.UIntSparseIntVect(4096)\n",
    "        fp_featureAgent = createFingerprintsReaction.create_agent_feature_FP(rxn)\n",
    "    except:\n",
    "        print \"Cannot build fingerprint/reaction of: %s\\n\"%smi\n",
    "        continue;\n",
    "    cPickle.dump((lbl,klass,fp_AP3,fp_featureAgent,fp_MG2_agents),pklfile,2)\n",
    "    if not lineNo%5000:\n",
    "        print \"[%6.1fs] creating transformation FP - %d\"%(time.time()-starttime, lineNo)"
   ]
  },
  {
   "cell_type": "markdown",
   "metadata": {},
   "source": [
    "Load the AP3 fingerprint, agent feature and MG2 fingerprints"
   ]
  },
  {
   "cell_type": "code",
   "execution_count": null,
   "metadata": {
    "collapsed": false,
    "scrolled": true
   },
   "outputs": [],
   "source": [
    "infile = gzip.open(\"transformationFPs_MG2_agentFPs_test_set_patent_data_2.pkl.gz\", 'rb')\n",
    "\n",
    "lineNo=0\n",
    "fps=[]\n",
    "idx=0\n",
    "while 1:\n",
    "    lineNo+=1\n",
    "    try:\n",
    "        lbl,cls,fp_AP3,fp_agentFeature,fp_agentMG2 = cPickle.load(infile)        \n",
    "    except EOFError:\n",
    "        break\n",
    "    fps.append([idx,lbl,cls,fp_AP3,fp_agentFeature,fp_agentMG2])\n",
    "    idx+=1\n",
    "    if not lineNo%10000:\n",
    "        print \"[%6.1fs] loading pickle file - %d\"%(time.time()-starttime, lineNo)"
   ]
  },
  {
   "cell_type": "markdown",
   "metadata": {},
   "source": [
    "Split the FPs in training (70 %) and test data (30 %)"
   ]
  },
  {
   "cell_type": "code",
   "execution_count": null,
   "metadata": {
    "collapsed": false
   },
   "outputs": [],
   "source": [
    "import numpy as np\n",
    "\n",
    "random.seed(0xd00f)\n",
    "indices=range(len(fps))\n",
    "random.shuffle(indices)\n",
    "\n",
    "nActive=700\n",
    "fpsz=512\n",
    "trainFps_AP3_agentMG2=[]\n",
    "testFps_AP3_agentMG2=[]\n",
    "trainActs=[]\n",
    "testActs=[]\n",
    "\n",
    "reaction_types = cPickle.load(file(\"reactionTypes_training_test_set_patent_data.pkl\"))\n",
    "names_rTypes = cPickle.load(file(\"names_rTypes_classes_superclasses_training_test_set_patent_data.pkl\"))\n",
    "\n",
    "rtypes=sorted(list(reaction_types))\n",
    "for i,klass in enumerate(rtypes):\n",
    "    actIds = [x for x in indices if fps[x][2]==klass]\n",
    "    for x in actIds[:nActive]:\n",
    "        np1_morgan = utilsFunctions.fpToNP(fps[x][3],fpsz)\n",
    "        np2_morgan = utilsFunctions.fpToNP(fps[x][5],fpsz)\n",
    "        trainFps_AP3_agentMG2 += [np.concatenate([np1_morgan, np2_morgan])]\n",
    "    trainActs += [i]*nActive\n",
    "    nTest=len(actIds)-nActive\n",
    "    for x in actIds[nActive:]:\n",
    "        np1_morgan = utilsFunctions.fpToNP(fps[x][3],fpsz)\n",
    "        np2_morgan = utilsFunctions.fpToNP(fps[x][5],fpsz)\n",
    "        testFps_AP3_agentMG2 += [np.concatenate([np1_morgan, np2_morgan])]\n",
    "    testActs += [i]*nTest\n",
    "    \n",
    "print \"[%6.1fs] splited FP collection to training and test set\"%(time.time()-starttime)"
   ]
  },
  {
   "cell_type": "markdown",
   "metadata": {},
   "source": [
    "Train LR Model"
   ]
  },
  {
   "cell_type": "code",
   "execution_count": null,
   "metadata": {
    "collapsed": false
   },
   "outputs": [],
   "source": [
    "from sklearn.linear_model import LogisticRegression\n",
    "\n",
    "lr_cls_AP3_MG2 = LogisticRegression()\n",
    "result_lr_fp_AP3_MG2 = lr_cls_AP3_MG2.fit(trainFps_AP3_agentMG2,trainActs)\n",
    "print \"[%6.1fs] LR model training finished\"%(time.time()-starttime)"
   ]
  },
  {
   "cell_type": "markdown",
   "metadata": {},
   "source": [
    "Evaluate Model"
   ]
  },
  {
   "cell_type": "code",
   "execution_count": null,
   "metadata": {
    "collapsed": false
   },
   "outputs": [],
   "source": [
    "import utilsFunctions\n",
    "\n",
    "cmat_fp_AP3_MG2 = utilsFunctions.evaluateModel(result_lr_fp_AP3_MG2, testFps_AP3_agentMG2, testActs, rtypes, names_rTypes)\n",
    "print \"[%6.1fs] evaluation finished!\"%(time.time()-starttime)"
   ]
  },
  {
   "cell_type": "code",
   "execution_count": null,
   "metadata": {
    "collapsed": false
   },
   "outputs": [],
   "source": [
    "reload(createFingerprintsReaction)\n",
    "smi = '[H]C(=O)C1=CC=CC=C1.NC1=CC=CC=C1>[Na+].CCO.[BH4-]>'\n",
    "rxn = AllChem.ReactionFromSmarts(smi,useSmiles=True)\n",
    "fp_AP3 = createFingerprintsReaction.create_transformation_FP(rxn,AllChem.FingerprintType.AtomPairFP)\n",
    "fp_MG2_agents = createFingerprintsReaction.create_agent_morgan2_FP(rxn)\n",
    "if fp_MG2_agents is None:\n",
    "    fp_MG2_agents = DataStructs.UIntSparseIntVect(4096)\n",
    "np1_morgan = utilsFunctions.fpToNP(fp_AP3,fpsz)\n",
    "np2_morgan = utilsFunctions.fpToNP(fp_MG2_agents,fpsz)\n",
    "testFps_AP3_agentMG2 = [np.concatenate([np1_morgan, np2_morgan])]\n",
    "predict = result_lr_fp_AP3_MG2.predict(testFps_AP3_agentMG2)\n",
    "print \"%s %s\"%(rtypes[predict[0]], names_rTypes[rtypes[predict[0]]])"
   ]
  },
  {
   "cell_type": "markdown",
   "metadata": {},
   "source": [
    "Save predictor to pickle file (for later use)"
   ]
  },
  {
   "cell_type": "code",
   "execution_count": null,
   "metadata": {
    "collapsed": true
   },
   "outputs": [],
   "source": [
    "pklfile = gzip.open('result_lr_fp_AP3_MG2.pkl.gz','wb+')\n",
    "cPickle.dump(result_lr_fp_AP3_MG2,pklfile,2)"
   ]
  },
  {
   "cell_type": "code",
   "execution_count": 65,
   "metadata": {
    "collapsed": false
   },
   "outputs": [
    {
     "name": "stdout",
     "output_type": "stream",
     "text": [
      "1.2.5 Ketone reductive amination\n"
     ]
    }
   ],
   "source": [
    "reload(createFingerprintsReaction)\n",
    "infile = gzip.open('result_lr_fp_AP3_MG2.pkl.gz', 'rb')\n",
    "cPickle.load(infile)\n",
    "smi = '[H]C(=O)C1=CC=CC=C1.NC1=CC=CC=C1>[Na+].CCO.[BH4-]>'\n",
    "rxn = AllChem.ReactionFromSmarts(smi,useSmiles=True)\n",
    "fp_AP3 = createFingerprintsReaction.create_transformation_FP(rxn,AllChem.FingerprintType.AtomPairFP)\n",
    "fp_MG2_agents = createFingerprintsReaction.create_agent_morgan2_FP(rxn)\n",
    "if fp_MG2_agents is None:\n",
    "    fp_MG2_agents = DataStructs.UIntSparseIntVect(4096)\n",
    "np1_morgan = utilsFunctions.fpToNP(fp_AP3,fpsz)\n",
    "np2_morgan = utilsFunctions.fpToNP(fp_MG2_agents,fpsz)\n",
    "testFps_AP3_agentMG2 = [np.concatenate([np1_morgan, np2_morgan])]\n",
    "predict = result_lr_fp_AP3_MG2.predict(testFps_AP3_agentMG2)\n",
    "print \"%s %s\"%(rtypes[predict[0]], names_rTypes[rtypes[predict[0]]])"
   ]
  },
  {
   "cell_type": "code",
   "execution_count": null,
   "metadata": {
    "collapsed": true
   },
   "outputs": [],
   "source": []
  }
 ],
 "metadata": {
  "kernelspec": {
   "display_name": "Python 2",
   "language": "python",
   "name": "python2"
  },
  "language_info": {
   "codemirror_mode": {
    "name": "ipython",
    "version": 2
   },
   "file_extension": ".py",
   "mimetype": "text/x-python",
   "name": "python",
   "nbconvert_exporter": "python",
   "pygments_lexer": "ipython2",
   "version": "2.7.11"
  }
 },
 "nbformat": 4,
 "nbformat_minor": 0
}
